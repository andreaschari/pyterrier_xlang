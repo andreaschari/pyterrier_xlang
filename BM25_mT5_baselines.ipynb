{
 "cells": [
  {
   "cell_type": "markdown",
   "id": "ceramic-category",
   "metadata": {},
   "source": [
    "# SETUP"
   ]
  },
  {
   "cell_type": "code",
   "execution_count": 1,
   "id": "collective-daniel",
   "metadata": {},
   "outputs": [
    {
     "name": "stdout",
     "output_type": "stream",
     "text": [
      "Collecting python-terrier\n",
      "  Cloning https://github.com/terrier-org/pyterrier.git to /tmp/pip-install-p605u0l4/python-terrier_6ea372db3fd34875a4e47ca777009312\n",
      "  Running command git clone -q https://github.com/terrier-org/pyterrier.git /tmp/pip-install-p605u0l4/python-terrier_6ea372db3fd34875a4e47ca777009312\n",
      "  Resolved https://github.com/terrier-org/pyterrier.git to commit 943764f32fc04ae0f164f3ec1a399cd28ea8e94b\n",
      "Requirement already satisfied: numpy in ./anaconda3/envs/xlangenv/lib/python3.8/site-packages (from python-terrier) (1.23.0)\n",
      "Requirement already satisfied: pandas in ./anaconda3/envs/xlangenv/lib/python3.8/site-packages (from python-terrier) (1.4.3)\n",
      "Requirement already satisfied: wget in ./anaconda3/envs/xlangenv/lib/python3.8/site-packages (from python-terrier) (3.2)\n",
      "Requirement already satisfied: tqdm in ./anaconda3/envs/xlangenv/lib/python3.8/site-packages (from python-terrier) (4.64.0)\n",
      "Requirement already satisfied: pyjnius~=1.3.0 in ./anaconda3/envs/xlangenv/lib/python3.8/site-packages (from python-terrier) (1.3.0)\n",
      "Requirement already satisfied: matchpy in ./anaconda3/envs/xlangenv/lib/python3.8/site-packages (from python-terrier) (0.5.5)\n",
      "Requirement already satisfied: sklearn in ./anaconda3/envs/xlangenv/lib/python3.8/site-packages (from python-terrier) (0.0)\n",
      "Requirement already satisfied: deprecation in ./anaconda3/envs/xlangenv/lib/python3.8/site-packages (from python-terrier) (2.1.0)\n",
      "Requirement already satisfied: chest in ./anaconda3/envs/xlangenv/lib/python3.8/site-packages (from python-terrier) (0.2.3)\n",
      "Requirement already satisfied: scipy in ./anaconda3/envs/xlangenv/lib/python3.8/site-packages (from python-terrier) (1.8.1)\n",
      "Requirement already satisfied: requests in ./anaconda3/envs/xlangenv/lib/python3.8/site-packages (from python-terrier) (2.28.0)\n",
      "Requirement already satisfied: joblib in ./anaconda3/envs/xlangenv/lib/python3.8/site-packages (from python-terrier) (1.1.0)\n",
      "Requirement already satisfied: nptyping==1.4.4 in ./anaconda3/envs/xlangenv/lib/python3.8/site-packages (from python-terrier) (1.4.4)\n",
      "Requirement already satisfied: more_itertools in ./anaconda3/envs/xlangenv/lib/python3.8/site-packages (from python-terrier) (8.13.0)\n",
      "Requirement already satisfied: ir_datasets>=0.3.2 in ./anaconda3/envs/xlangenv/lib/python3.8/site-packages (from python-terrier) (0.5.2)\n",
      "Requirement already satisfied: jinja2 in ./anaconda3/envs/xlangenv/lib/python3.8/site-packages (from python-terrier) (3.1.2)\n",
      "Requirement already satisfied: statsmodels in ./anaconda3/envs/xlangenv/lib/python3.8/site-packages (from python-terrier) (0.13.2)\n",
      "Requirement already satisfied: ir_measures>=0.2.0 in ./anaconda3/envs/xlangenv/lib/python3.8/site-packages (from python-terrier) (0.3.0)\n",
      "Requirement already satisfied: dill in ./anaconda3/envs/xlangenv/lib/python3.8/site-packages (from python-terrier) (0.3.5.1)\n",
      "Requirement already satisfied: typish>=1.7.0 in ./anaconda3/envs/xlangenv/lib/python3.8/site-packages (from nptyping==1.4.4->python-terrier) (1.9.3)\n",
      "Requirement already satisfied: trec-car-tools>=2.5.4 in ./anaconda3/envs/xlangenv/lib/python3.8/site-packages (from ir_datasets>=0.3.2->python-terrier) (2.6)\n",
      "Requirement already satisfied: pyautocorpus>=0.1.1 in ./anaconda3/envs/xlangenv/lib/python3.8/site-packages (from ir_datasets>=0.3.2->python-terrier) (0.1.8)\n",
      "Requirement already satisfied: warc3-wet-clueweb09>=0.2.5 in ./anaconda3/envs/xlangenv/lib/python3.8/site-packages (from ir_datasets>=0.3.2->python-terrier) (0.2.5)\n",
      "Requirement already satisfied: beautifulsoup4>=4.4.1 in ./anaconda3/envs/xlangenv/lib/python3.8/site-packages (from ir_datasets>=0.3.2->python-terrier) (4.11.1)\n",
      "Requirement already satisfied: warc3-wet>=0.2.3 in ./anaconda3/envs/xlangenv/lib/python3.8/site-packages (from ir_datasets>=0.3.2->python-terrier) (0.2.3)\n",
      "Requirement already satisfied: zlib-state>=0.1.3 in ./anaconda3/envs/xlangenv/lib/python3.8/site-packages (from ir_datasets>=0.3.2->python-terrier) (0.1.5)\n",
      "Requirement already satisfied: lxml>=4.5.2 in ./anaconda3/envs/xlangenv/lib/python3.8/site-packages (from ir_datasets>=0.3.2->python-terrier) (4.9.0)\n",
      "Requirement already satisfied: ijson>=3.1.3 in ./anaconda3/envs/xlangenv/lib/python3.8/site-packages (from ir_datasets>=0.3.2->python-terrier) (3.1.4)\n",
      "Requirement already satisfied: unlzw3>=0.2.1 in ./anaconda3/envs/xlangenv/lib/python3.8/site-packages (from ir_datasets>=0.3.2->python-terrier) (0.2.1)\n",
      "Requirement already satisfied: lz4>=3.1.1 in ./anaconda3/envs/xlangenv/lib/python3.8/site-packages (from ir_datasets>=0.3.2->python-terrier) (4.0.1)\n",
      "Requirement already satisfied: pyyaml>=5.3.1 in ./anaconda3/envs/xlangenv/lib/python3.8/site-packages (from ir_datasets>=0.3.2->python-terrier) (6.0)\n",
      "Requirement already satisfied: soupsieve>1.2 in ./anaconda3/envs/xlangenv/lib/python3.8/site-packages (from beautifulsoup4>=4.4.1->ir_datasets>=0.3.2->python-terrier) (2.3.2.post1)\n",
      "Requirement already satisfied: cwl-eval>=1.0.10 in ./anaconda3/envs/xlangenv/lib/python3.8/site-packages (from ir_measures>=0.2.0->python-terrier) (1.0.10)\n",
      "Requirement already satisfied: pytrec-eval-terrier==0.5.2 in ./anaconda3/envs/xlangenv/lib/python3.8/site-packages (from ir_measures>=0.2.0->python-terrier) (0.5.2)\n",
      "Requirement already satisfied: pyndeval>=0.0.2 in ./anaconda3/envs/xlangenv/lib/python3.8/site-packages (from ir_measures>=0.2.0->python-terrier) (0.0.2)\n",
      "Requirement already satisfied: cython in ./anaconda3/envs/xlangenv/lib/python3.8/site-packages (from pyjnius~=1.3.0->python-terrier) (0.29.30)\n",
      "Requirement already satisfied: six>=1.7.0 in ./anaconda3/envs/xlangenv/lib/python3.8/site-packages (from pyjnius~=1.3.0->python-terrier) (1.16.0)\n",
      "Requirement already satisfied: certifi>=2017.4.17 in ./anaconda3/envs/xlangenv/lib/python3.8/site-packages (from requests->python-terrier) (2022.6.15)\n",
      "Requirement already satisfied: charset-normalizer~=2.0.0 in ./anaconda3/envs/xlangenv/lib/python3.8/site-packages (from requests->python-terrier) (2.0.12)\n",
      "Requirement already satisfied: idna<4,>=2.5 in ./anaconda3/envs/xlangenv/lib/python3.8/site-packages (from requests->python-terrier) (3.3)\n",
      "Requirement already satisfied: urllib3<1.27,>=1.21.1 in ./anaconda3/envs/xlangenv/lib/python3.8/site-packages (from requests->python-terrier) (1.26.9)\n",
      "Requirement already satisfied: cbor>=1.0.0 in ./anaconda3/envs/xlangenv/lib/python3.8/site-packages (from trec-car-tools>=2.5.4->ir_datasets>=0.3.2->python-terrier) (1.0.0)\n",
      "Requirement already satisfied: heapdict in ./anaconda3/envs/xlangenv/lib/python3.8/site-packages (from chest->python-terrier) (1.0.1)\n",
      "Requirement already satisfied: packaging in ./anaconda3/envs/xlangenv/lib/python3.8/site-packages (from deprecation->python-terrier) (21.3)\n",
      "Requirement already satisfied: MarkupSafe>=2.0 in ./anaconda3/envs/xlangenv/lib/python3.8/site-packages (from jinja2->python-terrier) (2.1.1)\n",
      "Requirement already satisfied: multiset<3.0,>=2.0 in ./anaconda3/envs/xlangenv/lib/python3.8/site-packages (from matchpy->python-terrier) (2.1.1)\n",
      "Requirement already satisfied: pyparsing!=3.0.5,>=2.0.2 in ./anaconda3/envs/xlangenv/lib/python3.8/site-packages (from packaging->deprecation->python-terrier) (3.0.9)\n",
      "Requirement already satisfied: python-dateutil>=2.8.1 in ./anaconda3/envs/xlangenv/lib/python3.8/site-packages (from pandas->python-terrier) (2.8.2)\n",
      "Requirement already satisfied: pytz>=2020.1 in ./anaconda3/envs/xlangenv/lib/python3.8/site-packages (from pandas->python-terrier) (2022.1)\n",
      "Requirement already satisfied: scikit-learn in ./anaconda3/envs/xlangenv/lib/python3.8/site-packages (from sklearn->python-terrier) (1.1.1)\n",
      "Requirement already satisfied: threadpoolctl>=2.0.0 in ./anaconda3/envs/xlangenv/lib/python3.8/site-packages (from scikit-learn->sklearn->python-terrier) (3.1.0)\n",
      "Requirement already satisfied: patsy>=0.5.2 in ./anaconda3/envs/xlangenv/lib/python3.8/site-packages (from statsmodels->python-terrier) (0.5.2)\n",
      "Collecting git+https://github.com/andreaschari/pyterrier_t5.git\n",
      "  Cloning https://github.com/andreaschari/pyterrier_t5.git to /tmp/pip-req-build-2j4xeagd\n",
      "  Running command git clone -q https://github.com/andreaschari/pyterrier_t5.git /tmp/pip-req-build-2j4xeagd\n",
      "  Resolved https://github.com/andreaschari/pyterrier_t5.git to commit 3c3773e5fc0028f6e8fb3e4a444f616575910893\n"
     ]
    },
    {
     "name": "stdout",
     "output_type": "stream",
     "text": [
      "Requirement already satisfied: python-terrier>=0.5.0 in ./anaconda3/envs/xlangenv/lib/python3.8/site-packages (from pyterrier-t5==0.0.1) (0.8.1)\n",
      "Requirement already satisfied: pandas in ./anaconda3/envs/xlangenv/lib/python3.8/site-packages (from pyterrier-t5==0.0.1) (1.4.3)\n",
      "Requirement already satisfied: transformers>=4.0.0 in ./anaconda3/envs/xlangenv/lib/python3.8/site-packages (from pyterrier-t5==0.0.1) (4.20.1)\n",
      "Requirement already satisfied: torch in ./anaconda3/envs/xlangenv/lib/python3.8/site-packages (from pyterrier-t5==0.0.1) (1.12.0)\n",
      "Requirement already satisfied: sentencepiece>=0.1.95 in ./anaconda3/envs/xlangenv/lib/python3.8/site-packages (from pyterrier-t5==0.0.1) (0.1.96)\n",
      "Requirement already satisfied: wget in ./anaconda3/envs/xlangenv/lib/python3.8/site-packages (from python-terrier>=0.5.0->pyterrier-t5==0.0.1) (3.2)\n",
      "Requirement already satisfied: pyjnius~=1.3.0 in ./anaconda3/envs/xlangenv/lib/python3.8/site-packages (from python-terrier>=0.5.0->pyterrier-t5==0.0.1) (1.3.0)\n",
      "Requirement already satisfied: more-itertools in ./anaconda3/envs/xlangenv/lib/python3.8/site-packages (from python-terrier>=0.5.0->pyterrier-t5==0.0.1) (8.13.0)\n",
      "Requirement already satisfied: ir-measures>=0.2.0 in ./anaconda3/envs/xlangenv/lib/python3.8/site-packages (from python-terrier>=0.5.0->pyterrier-t5==0.0.1) (0.3.0)\n",
      "Requirement already satisfied: matchpy in ./anaconda3/envs/xlangenv/lib/python3.8/site-packages (from python-terrier>=0.5.0->pyterrier-t5==0.0.1) (0.5.5)\n",
      "Requirement already satisfied: jinja2 in ./anaconda3/envs/xlangenv/lib/python3.8/site-packages (from python-terrier>=0.5.0->pyterrier-t5==0.0.1) (3.1.2)\n",
      "Requirement already satisfied: sklearn in ./anaconda3/envs/xlangenv/lib/python3.8/site-packages (from python-terrier>=0.5.0->pyterrier-t5==0.0.1) (0.0)\n",
      "Requirement already satisfied: numpy in ./anaconda3/envs/xlangenv/lib/python3.8/site-packages (from python-terrier>=0.5.0->pyterrier-t5==0.0.1) (1.23.0)\n",
      "Requirement already satisfied: dill in ./anaconda3/envs/xlangenv/lib/python3.8/site-packages (from python-terrier>=0.5.0->pyterrier-t5==0.0.1) (0.3.5.1)\n",
      "Requirement already satisfied: joblib in ./anaconda3/envs/xlangenv/lib/python3.8/site-packages (from python-terrier>=0.5.0->pyterrier-t5==0.0.1) (1.1.0)\n",
      "Requirement already satisfied: tqdm in ./anaconda3/envs/xlangenv/lib/python3.8/site-packages (from python-terrier>=0.5.0->pyterrier-t5==0.0.1) (4.64.0)\n",
      "Requirement already satisfied: scipy in ./anaconda3/envs/xlangenv/lib/python3.8/site-packages (from python-terrier>=0.5.0->pyterrier-t5==0.0.1) (1.8.1)\n",
      "Requirement already satisfied: deprecation in ./anaconda3/envs/xlangenv/lib/python3.8/site-packages (from python-terrier>=0.5.0->pyterrier-t5==0.0.1) (2.1.0)\n",
      "Requirement already satisfied: ir-datasets>=0.3.2 in ./anaconda3/envs/xlangenv/lib/python3.8/site-packages (from python-terrier>=0.5.0->pyterrier-t5==0.0.1) (0.5.2)\n",
      "Requirement already satisfied: requests in ./anaconda3/envs/xlangenv/lib/python3.8/site-packages (from python-terrier>=0.5.0->pyterrier-t5==0.0.1) (2.28.0)\n",
      "Requirement already satisfied: nptyping==1.4.4 in ./anaconda3/envs/xlangenv/lib/python3.8/site-packages (from python-terrier>=0.5.0->pyterrier-t5==0.0.1) (1.4.4)\n",
      "Requirement already satisfied: statsmodels in ./anaconda3/envs/xlangenv/lib/python3.8/site-packages (from python-terrier>=0.5.0->pyterrier-t5==0.0.1) (0.13.2)\n",
      "Requirement already satisfied: chest in ./anaconda3/envs/xlangenv/lib/python3.8/site-packages (from python-terrier>=0.5.0->pyterrier-t5==0.0.1) (0.2.3)\n",
      "Requirement already satisfied: typish>=1.7.0 in ./anaconda3/envs/xlangenv/lib/python3.8/site-packages (from nptyping==1.4.4->python-terrier>=0.5.0->pyterrier-t5==0.0.1) (1.9.3)\n",
      "Requirement already satisfied: unlzw3>=0.2.1 in ./anaconda3/envs/xlangenv/lib/python3.8/site-packages (from ir-datasets>=0.3.2->python-terrier>=0.5.0->pyterrier-t5==0.0.1) (0.2.1)\n",
      "Requirement already satisfied: warc3-wet>=0.2.3 in ./anaconda3/envs/xlangenv/lib/python3.8/site-packages (from ir-datasets>=0.3.2->python-terrier>=0.5.0->pyterrier-t5==0.0.1) (0.2.3)\n",
      "Requirement already satisfied: lz4>=3.1.1 in ./anaconda3/envs/xlangenv/lib/python3.8/site-packages (from ir-datasets>=0.3.2->python-terrier>=0.5.0->pyterrier-t5==0.0.1) (4.0.1)\n",
      "Requirement already satisfied: pyyaml>=5.3.1 in ./anaconda3/envs/xlangenv/lib/python3.8/site-packages (from ir-datasets>=0.3.2->python-terrier>=0.5.0->pyterrier-t5==0.0.1) (6.0)\n",
      "Requirement already satisfied: pyautocorpus>=0.1.1 in ./anaconda3/envs/xlangenv/lib/python3.8/site-packages (from ir-datasets>=0.3.2->python-terrier>=0.5.0->pyterrier-t5==0.0.1) (0.1.8)\n",
      "Requirement already satisfied: trec-car-tools>=2.5.4 in ./anaconda3/envs/xlangenv/lib/python3.8/site-packages (from ir-datasets>=0.3.2->python-terrier>=0.5.0->pyterrier-t5==0.0.1) (2.6)\n",
      "Requirement already satisfied: warc3-wet-clueweb09>=0.2.5 in ./anaconda3/envs/xlangenv/lib/python3.8/site-packages (from ir-datasets>=0.3.2->python-terrier>=0.5.0->pyterrier-t5==0.0.1) (0.2.5)\n",
      "Requirement already satisfied: ijson>=3.1.3 in ./anaconda3/envs/xlangenv/lib/python3.8/site-packages (from ir-datasets>=0.3.2->python-terrier>=0.5.0->pyterrier-t5==0.0.1) (3.1.4)\n",
      "Requirement already satisfied: beautifulsoup4>=4.4.1 in ./anaconda3/envs/xlangenv/lib/python3.8/site-packages (from ir-datasets>=0.3.2->python-terrier>=0.5.0->pyterrier-t5==0.0.1) (4.11.1)\n",
      "Requirement already satisfied: zlib-state>=0.1.3 in ./anaconda3/envs/xlangenv/lib/python3.8/site-packages (from ir-datasets>=0.3.2->python-terrier>=0.5.0->pyterrier-t5==0.0.1) (0.1.5)\n",
      "Requirement already satisfied: lxml>=4.5.2 in ./anaconda3/envs/xlangenv/lib/python3.8/site-packages (from ir-datasets>=0.3.2->python-terrier>=0.5.0->pyterrier-t5==0.0.1) (4.9.0)\n",
      "Requirement already satisfied: soupsieve>1.2 in ./anaconda3/envs/xlangenv/lib/python3.8/site-packages (from beautifulsoup4>=4.4.1->ir-datasets>=0.3.2->python-terrier>=0.5.0->pyterrier-t5==0.0.1) (2.3.2.post1)\n",
      "Requirement already satisfied: pyndeval>=0.0.2 in ./anaconda3/envs/xlangenv/lib/python3.8/site-packages (from ir-measures>=0.2.0->python-terrier>=0.5.0->pyterrier-t5==0.0.1) (0.0.2)\n",
      "Requirement already satisfied: cwl-eval>=1.0.10 in ./anaconda3/envs/xlangenv/lib/python3.8/site-packages (from ir-measures>=0.2.0->python-terrier>=0.5.0->pyterrier-t5==0.0.1) (1.0.10)\n",
      "Requirement already satisfied: pytrec-eval-terrier==0.5.2 in ./anaconda3/envs/xlangenv/lib/python3.8/site-packages (from ir-measures>=0.2.0->python-terrier>=0.5.0->pyterrier-t5==0.0.1) (0.5.2)\n",
      "Requirement already satisfied: six>=1.7.0 in ./anaconda3/envs/xlangenv/lib/python3.8/site-packages (from pyjnius~=1.3.0->python-terrier>=0.5.0->pyterrier-t5==0.0.1) (1.16.0)\n",
      "Requirement already satisfied: cython in ./anaconda3/envs/xlangenv/lib/python3.8/site-packages (from pyjnius~=1.3.0->python-terrier>=0.5.0->pyterrier-t5==0.0.1) (0.29.30)\n",
      "Requirement already satisfied: certifi>=2017.4.17 in ./anaconda3/envs/xlangenv/lib/python3.8/site-packages (from requests->python-terrier>=0.5.0->pyterrier-t5==0.0.1) (2022.6.15)\n",
      "Requirement already satisfied: urllib3<1.27,>=1.21.1 in ./anaconda3/envs/xlangenv/lib/python3.8/site-packages (from requests->python-terrier>=0.5.0->pyterrier-t5==0.0.1) (1.26.9)\n",
      "Requirement already satisfied: charset-normalizer~=2.0.0 in ./anaconda3/envs/xlangenv/lib/python3.8/site-packages (from requests->python-terrier>=0.5.0->pyterrier-t5==0.0.1) (2.0.12)\n",
      "Requirement already satisfied: idna<4,>=2.5 in ./anaconda3/envs/xlangenv/lib/python3.8/site-packages (from requests->python-terrier>=0.5.0->pyterrier-t5==0.0.1) (3.3)\n",
      "Requirement already satisfied: packaging>=20.0 in ./anaconda3/envs/xlangenv/lib/python3.8/site-packages (from transformers>=4.0.0->pyterrier-t5==0.0.1) (21.3)\n",
      "Requirement already satisfied: tokenizers!=0.11.3,<0.13,>=0.11.1 in ./anaconda3/envs/xlangenv/lib/python3.8/site-packages (from transformers>=4.0.0->pyterrier-t5==0.0.1) (0.12.1)\n",
      "Requirement already satisfied: huggingface-hub<1.0,>=0.1.0 in ./anaconda3/envs/xlangenv/lib/python3.8/site-packages (from transformers>=4.0.0->pyterrier-t5==0.0.1) (0.8.1)\n",
      "Requirement already satisfied: filelock in ./anaconda3/envs/xlangenv/lib/python3.8/site-packages (from transformers>=4.0.0->pyterrier-t5==0.0.1) (3.7.1)\n",
      "Requirement already satisfied: regex!=2019.12.17 in ./anaconda3/envs/xlangenv/lib/python3.8/site-packages (from transformers>=4.0.0->pyterrier-t5==0.0.1) (2022.6.2)\n"
     ]
    },
    {
     "name": "stdout",
     "output_type": "stream",
     "text": [
      "Requirement already satisfied: typing-extensions>=3.7.4.3 in ./anaconda3/envs/xlangenv/lib/python3.8/site-packages (from huggingface-hub<1.0,>=0.1.0->transformers>=4.0.0->pyterrier-t5==0.0.1) (4.1.1)\n",
      "Requirement already satisfied: pyparsing!=3.0.5,>=2.0.2 in ./anaconda3/envs/xlangenv/lib/python3.8/site-packages (from packaging>=20.0->transformers>=4.0.0->pyterrier-t5==0.0.1) (3.0.9)\n",
      "Requirement already satisfied: cbor>=1.0.0 in ./anaconda3/envs/xlangenv/lib/python3.8/site-packages (from trec-car-tools>=2.5.4->ir-datasets>=0.3.2->python-terrier>=0.5.0->pyterrier-t5==0.0.1) (1.0.0)\n",
      "Requirement already satisfied: heapdict in ./anaconda3/envs/xlangenv/lib/python3.8/site-packages (from chest->python-terrier>=0.5.0->pyterrier-t5==0.0.1) (1.0.1)\n",
      "Requirement already satisfied: MarkupSafe>=2.0 in ./anaconda3/envs/xlangenv/lib/python3.8/site-packages (from jinja2->python-terrier>=0.5.0->pyterrier-t5==0.0.1) (2.1.1)\n",
      "Requirement already satisfied: multiset<3.0,>=2.0 in ./anaconda3/envs/xlangenv/lib/python3.8/site-packages (from matchpy->python-terrier>=0.5.0->pyterrier-t5==0.0.1) (2.1.1)\n",
      "Requirement already satisfied: pytz>=2020.1 in ./anaconda3/envs/xlangenv/lib/python3.8/site-packages (from pandas->pyterrier-t5==0.0.1) (2022.1)\n",
      "Requirement already satisfied: python-dateutil>=2.8.1 in ./anaconda3/envs/xlangenv/lib/python3.8/site-packages (from pandas->pyterrier-t5==0.0.1) (2.8.2)\n",
      "Requirement already satisfied: scikit-learn in ./anaconda3/envs/xlangenv/lib/python3.8/site-packages (from sklearn->python-terrier>=0.5.0->pyterrier-t5==0.0.1) (1.1.1)\n",
      "Requirement already satisfied: threadpoolctl>=2.0.0 in ./anaconda3/envs/xlangenv/lib/python3.8/site-packages (from scikit-learn->sklearn->python-terrier>=0.5.0->pyterrier-t5==0.0.1) (3.1.0)\n",
      "Requirement already satisfied: patsy>=0.5.2 in ./anaconda3/envs/xlangenv/lib/python3.8/site-packages (from statsmodels->python-terrier>=0.5.0->pyterrier-t5==0.0.1) (0.5.2)\n"
     ]
    }
   ],
   "source": [
    "!pip install --upgrade git+https://github.com/terrier-org/pyterrier.git#egg=python-terrier\n",
    "!pip install --upgrade git+https://github.com/andreaschari/pyterrier_t5.git"
   ]
  },
  {
   "cell_type": "code",
   "execution_count": 2,
   "id": "76318f5d",
   "metadata": {},
   "outputs": [],
   "source": [
    "import os\n",
    "import multiprocessing\n",
    "import nltk\n",
    "from nltk.stem import SnowballStemmer\n",
    "from nltk import word_tokenize\n",
    "from nltk.corpus import stopwords\n",
    "import pandas as pd"
   ]
  },
  {
   "cell_type": "code",
   "execution_count": 3,
   "id": "victorian-uzbekistan",
   "metadata": {},
   "outputs": [],
   "source": [
    "import ir_datasets"
   ]
  },
  {
   "cell_type": "code",
   "execution_count": 4,
   "id": "smoking-liabilities",
   "metadata": {},
   "outputs": [
    {
     "name": "stderr",
     "output_type": "stream",
     "text": [
      "PyTerrier 0.8.1 has loaded Terrier 5.6 (built by craigmacdonald on 2021-09-17 13:27)\n",
      "\n",
      "No etc/terrier.properties, using terrier.default.properties for bootstrap configuration.\n"
     ]
    }
   ],
   "source": [
    "import pyterrier as pt\n",
    "pt.init(boot_packages=['com.github.terrierteam:terrier-prf:-SNAPSHOT'])"
   ]
  },
  {
   "cell_type": "code",
   "execution_count": 5,
   "id": "insured-insight",
   "metadata": {},
   "outputs": [],
   "source": [
    "from pyterrier_t5 import mT5ReRanker, MonoT5ReRanker"
   ]
  },
  {
   "cell_type": "code",
   "execution_count": 6,
   "id": "1bf7f0e5",
   "metadata": {},
   "outputs": [],
   "source": [
    "from pyterrier_xlang.preprocess import fa, spacy_preprocessor"
   ]
  },
  {
   "cell_type": "code",
   "execution_count": 7,
   "id": "e9b59570",
   "metadata": {},
   "outputs": [],
   "source": [
    "from pyterrier.measures import *"
   ]
  },
  {
   "cell_type": "markdown",
   "id": "80f956bf",
   "metadata": {},
   "source": [
    "# Farsi"
   ]
  },
  {
   "cell_type": "markdown",
   "id": "9a186b11",
   "metadata": {},
   "source": [
    "## Load Pre-processor"
   ]
  },
  {
   "cell_type": "code",
   "execution_count": 8,
   "id": "412817cd",
   "metadata": {},
   "outputs": [],
   "source": [
    "fa_pre = fa(remove_stops=False)"
   ]
  },
  {
   "cell_type": "markdown",
   "id": "ethical-violence",
   "metadata": {},
   "source": [
    "## Load Datasets"
   ]
  },
  {
   "cell_type": "code",
   "execution_count": 89,
   "id": "olive-booth",
   "metadata": {},
   "outputs": [],
   "source": [
    "dataset = pt.get_dataset('irds:hc4/fa/dev')"
   ]
  },
  {
   "cell_type": "markdown",
   "id": "hired-norman",
   "metadata": {},
   "source": [
    "## Index Dataset with terrier"
   ]
  },
  {
   "cell_type": "code",
   "execution_count": 90,
   "id": "bceff906",
   "metadata": {},
   "outputs": [],
   "source": [
    "# No Stemming\n",
    "if not os.path.exists('./hc4-fa-train-nostem'):\n",
    "    indexer = pt.IterDictIndexer('./hc4-fa-train-nostem', meta={\"docno\": 36})\n",
    "    indexer.setProperty(\"tokeniser\", \"UTFTokeniser\") # Replaces the default EnglishTokeniser, which makes assumptions specific to English\n",
    "    indexer.setProperty(\"termpipelines\", \"\") # Removes the default PorterStemmer (English)\n",
    "    index_nostem = indexer.index(dataset.get_corpus_iter())\n",
    "else:\n",
    "    index_nostem = pt.IndexRef.of('./hc4-fa-train-nostem/data.properties')"
   ]
  },
  {
   "cell_type": "markdown",
   "id": "organic-carter",
   "metadata": {},
   "source": [
    "## BM25 Retrieval"
   ]
  },
  {
   "cell_type": "code",
   "execution_count": 47,
   "id": "upset-portland",
   "metadata": {},
   "outputs": [],
   "source": [
    "bm25_nostem = pt.BatchRetrieve(index_nostem, wmodel='BM25')"
   ]
  },
  {
   "cell_type": "code",
   "execution_count": 48,
   "id": "9f81414e",
   "metadata": {},
   "outputs": [],
   "source": [
    "rm3 = pt.rewrite.RM3(index_nostem, fb_terms=10, fb_docs=3)"
   ]
  },
  {
   "cell_type": "code",
   "execution_count": 49,
   "id": "866525ec",
   "metadata": {},
   "outputs": [],
   "source": [
    "pipe_qe = bm25_nostem >> rm3 >> bm25_nostem"
   ]
  },
  {
   "cell_type": "code",
   "execution_count": 50,
   "id": "7b882b90",
   "metadata": {},
   "outputs": [],
   "source": [
    "bm25_pipeline = fa_pre >> pipe_qe"
   ]
  },
  {
   "cell_type": "code",
   "execution_count": 51,
   "id": "172b740f",
   "metadata": {},
   "outputs": [
    {
     "name": "stderr",
     "output_type": "stream",
     "text": [
      "/home/andreas/anaconda3/envs/xlangenv/lib/python3.8/site-packages/pyterrier/datasets.py:440: FutureWarning: In a future version of pandas all arguments of DataFrame.drop except for the argument 'labels' will be keyword-only.\n",
      "  df.drop(df.columns.difference(['qid','query']), 1, inplace=True)\n"
     ]
    }
   ],
   "source": [
    "bm25_out = bm25_pipeline(dataset.get_topics('ht_title', tokenise_query=False))"
   ]
  },
  {
   "cell_type": "code",
   "execution_count": 52,
   "id": "regulated-presence",
   "metadata": {},
   "outputs": [],
   "source": [
    "pt.io.write_results(bm25_out, \"bm25_rm3_retr_hc4_fa_dev_ht.gz\")"
   ]
  },
  {
   "cell_type": "markdown",
   "id": "fa26b26b",
   "metadata": {},
   "source": [
    "## Run Retrieval Experiments"
   ]
  },
  {
   "cell_type": "code",
   "execution_count": 53,
   "id": "436f3628",
   "metadata": {},
   "outputs": [
    {
     "name": "stderr",
     "output_type": "stream",
     "text": [
      "/home/andreas/anaconda3/envs/xlangenv/lib/python3.8/site-packages/pyterrier/datasets.py:440: FutureWarning: In a future version of pandas all arguments of DataFrame.drop except for the argument 'labels' will be keyword-only.\n",
      "  df.drop(df.columns.difference(['qid','query']), 1, inplace=True)\n"
     ]
    },
    {
     "data": {
      "text/html": [
       "<div>\n",
       "<style scoped>\n",
       "    .dataframe tbody tr th:only-of-type {\n",
       "        vertical-align: middle;\n",
       "    }\n",
       "\n",
       "    .dataframe tbody tr th {\n",
       "        vertical-align: top;\n",
       "    }\n",
       "\n",
       "    .dataframe thead th {\n",
       "        text-align: right;\n",
       "    }\n",
       "</style>\n",
       "<table border=\"1\" class=\"dataframe\">\n",
       "  <thead>\n",
       "    <tr style=\"text-align: right;\">\n",
       "      <th></th>\n",
       "      <th>name</th>\n",
       "      <th>nDCG@100</th>\n",
       "      <th>AP@100</th>\n",
       "      <th>R@1000</th>\n",
       "      <th>Judged@10</th>\n",
       "    </tr>\n",
       "  </thead>\n",
       "  <tbody>\n",
       "    <tr>\n",
       "      <th>0</th>\n",
       "      <td>Farsi pipeline</td>\n",
       "      <td>0.231863</td>\n",
       "      <td>0.163881</td>\n",
       "      <td>0.68845</td>\n",
       "      <td>0.36</td>\n",
       "    </tr>\n",
       "  </tbody>\n",
       "</table>\n",
       "</div>"
      ],
      "text/plain": [
       "             name  nDCG@100    AP@100   R@1000  Judged@10\n",
       "0  Farsi pipeline  0.231863  0.163881  0.68845       0.36"
      ]
     },
     "execution_count": 53,
     "metadata": {},
     "output_type": "execute_result"
    }
   ],
   "source": [
    "pt.Experiment([bm25_pipeline], dataset.get_topics('ht_title', tokenise_query=False), dataset.get_qrels(), [nDCG@100, AP@100, R@1000, Judged@10], names=['Farsi pipeline'])"
   ]
  },
  {
   "cell_type": "markdown",
   "id": "a00331a2",
   "metadata": {},
   "source": [
    "# Russian"
   ]
  },
  {
   "cell_type": "markdown",
   "id": "5ccb4bb7",
   "metadata": {},
   "source": [
    "## Load Pre-processor"
   ]
  },
  {
   "cell_type": "code",
   "execution_count": 26,
   "id": "6e90a699",
   "metadata": {},
   "outputs": [],
   "source": [
    "ru_pre = spacy_preprocessor('ru_core_news_sm')"
   ]
  },
  {
   "cell_type": "markdown",
   "id": "0ec096b6",
   "metadata": {},
   "source": [
    "## Load Dataset"
   ]
  },
  {
   "cell_type": "code",
   "execution_count": 27,
   "id": "ed004cb2",
   "metadata": {},
   "outputs": [],
   "source": [
    "dataset = pt.get_dataset('irds:hc4/ru/dev')"
   ]
  },
  {
   "cell_type": "markdown",
   "id": "b3dfec52",
   "metadata": {},
   "source": [
    "## Index Dataset with Terrier"
   ]
  },
  {
   "cell_type": "code",
   "execution_count": 28,
   "id": "f873f2b4",
   "metadata": {},
   "outputs": [],
   "source": [
    "# No Stemming\n",
    "if not os.path.exists('./hc4-ru-dev-nostem'):\n",
    "    indexer = pt.IterDictIndexer('./hc4-ru-dev-nostem', meta={\"docno\": 36})\n",
    "    indexer.setProperty(\"tokeniser\", \"UTFTokeniser\") # Replaces the default EnglishTokeniser, which makes assumptions specific to English\n",
    "    indexer.setProperty(\"termpipelines\", \"\") # Removes the default PorterStemmer (English)\n",
    "    index_nostem = indexer.index(dataset.get_corpus_iter())\n",
    "else:\n",
    "    index_nostem = pt.IndexRef.of('./hc4-ru-dev-nostem/data.properties')"
   ]
  },
  {
   "cell_type": "markdown",
   "id": "fb4a0997",
   "metadata": {},
   "source": [
    "## BM25 Retrieval"
   ]
  },
  {
   "cell_type": "code",
   "execution_count": 29,
   "id": "1fb3777a",
   "metadata": {},
   "outputs": [],
   "source": [
    "bm25_nostem = pt.BatchRetrieve(index_nostem, wmodel='BM25')"
   ]
  },
  {
   "cell_type": "code",
   "execution_count": 30,
   "id": "aa5b9d60",
   "metadata": {},
   "outputs": [],
   "source": [
    "rm3 = pt.rewrite.RM3(index_nostem, fb_terms=10, fb_docs=3)"
   ]
  },
  {
   "cell_type": "code",
   "execution_count": 31,
   "id": "95c53685",
   "metadata": {},
   "outputs": [],
   "source": [
    "pipe_qe = bm25_nostem >> rm3 >> bm25_nostem"
   ]
  },
  {
   "cell_type": "code",
   "execution_count": 32,
   "id": "831b523a",
   "metadata": {},
   "outputs": [],
   "source": [
    "bm25_pipeline = ru_pre >> pipe_qe"
   ]
  },
  {
   "cell_type": "code",
   "execution_count": 33,
   "id": "4c4fe5a8",
   "metadata": {},
   "outputs": [
    {
     "name": "stderr",
     "output_type": "stream",
     "text": [
      "/home/andreas/anaconda3/envs/xlangenv/lib/python3.8/site-packages/pyterrier/datasets.py:440: FutureWarning: In a future version of pandas all arguments of DataFrame.drop except for the argument 'labels' will be keyword-only.\n",
      "  df.drop(df.columns.difference(['qid','query']), 1, inplace=True)\n"
     ]
    }
   ],
   "source": [
    "bm25_out = bm25_pipeline(dataset.get_topics('ht_title', tokenise_query=False))"
   ]
  },
  {
   "cell_type": "code",
   "execution_count": 62,
   "id": "f6febc89",
   "metadata": {},
   "outputs": [],
   "source": [
    "pt.io.write_results(bm25_out, \"bm25_rm3_retr_hc4_ru_dev_ht.gz\")"
   ]
  },
  {
   "cell_type": "markdown",
   "id": "3bfafc2e",
   "metadata": {},
   "source": [
    "## Run Retrieval Experiments"
   ]
  },
  {
   "cell_type": "code",
   "execution_count": 35,
   "id": "b2707bb2",
   "metadata": {},
   "outputs": [
    {
     "name": "stderr",
     "output_type": "stream",
     "text": [
      "/home/andreas/anaconda3/envs/xlangenv/lib/python3.8/site-packages/pyterrier/datasets.py:440: FutureWarning: In a future version of pandas all arguments of DataFrame.drop except for the argument 'labels' will be keyword-only.\n",
      "  df.drop(df.columns.difference(['qid','query']), 1, inplace=True)\n"
     ]
    },
    {
     "data": {
      "text/html": [
       "<div>\n",
       "<style scoped>\n",
       "    .dataframe tbody tr th:only-of-type {\n",
       "        vertical-align: middle;\n",
       "    }\n",
       "\n",
       "    .dataframe tbody tr th {\n",
       "        vertical-align: top;\n",
       "    }\n",
       "\n",
       "    .dataframe thead th {\n",
       "        text-align: right;\n",
       "    }\n",
       "</style>\n",
       "<table border=\"1\" class=\"dataframe\">\n",
       "  <thead>\n",
       "    <tr style=\"text-align: right;\">\n",
       "      <th></th>\n",
       "      <th>name</th>\n",
       "      <th>nDCG@100</th>\n",
       "      <th>AP@100</th>\n",
       "      <th>R@1000</th>\n",
       "      <th>Judged@10</th>\n",
       "    </tr>\n",
       "  </thead>\n",
       "  <tbody>\n",
       "    <tr>\n",
       "      <th>0</th>\n",
       "      <td>Russian pipeline</td>\n",
       "      <td>0.227183</td>\n",
       "      <td>0.089263</td>\n",
       "      <td>0.554683</td>\n",
       "      <td>0.5</td>\n",
       "    </tr>\n",
       "  </tbody>\n",
       "</table>\n",
       "</div>"
      ],
      "text/plain": [
       "               name  nDCG@100    AP@100    R@1000  Judged@10\n",
       "0  Russian pipeline  0.227183  0.089263  0.554683        0.5"
      ]
     },
     "execution_count": 35,
     "metadata": {},
     "output_type": "execute_result"
    }
   ],
   "source": [
    "pt.Experiment([bm25_pipeline], dataset.get_topics('mt_title', tokenise_query=False), dataset.get_qrels(), [nDCG@100, AP@100, R@1000, Judged@10], names=['Russian pipeline'])"
   ]
  },
  {
   "cell_type": "markdown",
   "id": "fb965ee1",
   "metadata": {},
   "source": [
    "# Chinese"
   ]
  },
  {
   "cell_type": "markdown",
   "id": "f2aabb97",
   "metadata": {},
   "source": [
    "## Load Pre-processor"
   ]
  },
  {
   "cell_type": "code",
   "execution_count": 16,
   "id": "975190ec",
   "metadata": {},
   "outputs": [],
   "source": [
    "zh_pre = spacy_preprocessor('zh_core_web_sm', supports_stem=False)"
   ]
  },
  {
   "cell_type": "code",
   "execution_count": 28,
   "id": "1a4fcf76",
   "metadata": {},
   "outputs": [],
   "source": [
    "from spacy.lang.zh import Chinese\n",
    "nlp = Chinese()\n",
    "cfg = {\"segmenter\": \"jieba\"}\n",
    "nlp = Chinese.from_config({\"nlp\": {\"tokenizer\": cfg}})\n",
    "zh_pre = spacy_preprocessor(nlp, supports_stem=False)"
   ]
  },
  {
   "cell_type": "markdown",
   "id": "57b90b8d",
   "metadata": {},
   "source": [
    "## Load Dataset"
   ]
  },
  {
   "cell_type": "code",
   "execution_count": 17,
   "id": "eecf0045",
   "metadata": {},
   "outputs": [],
   "source": [
    "dataset = pt.get_dataset('irds:hc4/zh/dev')"
   ]
  },
  {
   "cell_type": "markdown",
   "id": "9cbfe485",
   "metadata": {},
   "source": [
    "## Index Dataset with Terrier"
   ]
  },
  {
   "cell_type": "code",
   "execution_count": 18,
   "id": "a51800d2",
   "metadata": {},
   "outputs": [],
   "source": [
    "# No Stemming\n",
    "if not os.path.exists('./hc4-zh-dev-nostem'):\n",
    "    indexer = pt.IterDictIndexer('./hc4-zh-dev-nostem', meta={\"docno\": 36})\n",
    "    indexer.setProperty(\"tokeniser\", \"UTFTokeniser\") # Replaces the default EnglishTokeniser, which makes assumptions specific to English\n",
    "    indexer.setProperty(\"termpipelines\", \"\") # Removes the default PorterStemmer (English)\n",
    "    index_nostem = indexer.index(dataset.get_corpus_iter())\n",
    "else:\n",
    "    index_nostem = pt.IndexRef.of('./hc4-zh-dev-nostem/data.properties')"
   ]
  },
  {
   "cell_type": "markdown",
   "id": "290ecf6b",
   "metadata": {},
   "source": [
    "## BM25 Retrieval"
   ]
  },
  {
   "cell_type": "code",
   "execution_count": 19,
   "id": "64cef628",
   "metadata": {},
   "outputs": [],
   "source": [
    "bm25_nostem = pt.BatchRetrieve(index_nostem, wmodel='BM25')"
   ]
  },
  {
   "cell_type": "code",
   "execution_count": 20,
   "id": "1cc92ea3",
   "metadata": {},
   "outputs": [],
   "source": [
    "rm3 = pt.rewrite.RM3(index_nostem, fb_terms=10, fb_docs=3)"
   ]
  },
  {
   "cell_type": "code",
   "execution_count": 21,
   "id": "9c75584d",
   "metadata": {},
   "outputs": [],
   "source": [
    "pipe_qe = bm25_nostem >> rm3 >> bm25_nostem"
   ]
  },
  {
   "cell_type": "code",
   "execution_count": 22,
   "id": "f86e88af",
   "metadata": {},
   "outputs": [],
   "source": [
    "bm25_pipeline = zh_pre >> pipe_qe"
   ]
  },
  {
   "cell_type": "code",
   "execution_count": 72,
   "id": "e99fb407",
   "metadata": {},
   "outputs": [
    {
     "name": "stderr",
     "output_type": "stream",
     "text": [
      "/home/andreas/anaconda3/envs/xlangenv/lib/python3.8/site-packages/pyterrier/datasets.py:440: FutureWarning: In a future version of pandas all arguments of DataFrame.drop except for the argument 'labels' will be keyword-only.\n",
      "  df.drop(df.columns.difference(['qid','query']), 1, inplace=True)\n"
     ]
    }
   ],
   "source": [
    "bm25_out = bm25_pipeline(dataset.get_topics('ht_title', tokenise_query=False))"
   ]
  },
  {
   "cell_type": "code",
   "execution_count": 73,
   "id": "27d83bf5",
   "metadata": {},
   "outputs": [],
   "source": [
    "pt.io.write_results(bm25_out, \"bm25_rm3_retr_hc4_zh_dev_ht.gz\")"
   ]
  },
  {
   "cell_type": "markdown",
   "id": "138137c4",
   "metadata": {},
   "source": [
    "## Run Retrieval Experiments"
   ]
  },
  {
   "cell_type": "code",
   "execution_count": 23,
   "id": "2f096f8a",
   "metadata": {},
   "outputs": [
    {
     "name": "stderr",
     "output_type": "stream",
     "text": [
      "/home/andreas/anaconda3/envs/xlangenv/lib/python3.8/site-packages/pyterrier/datasets.py:440: FutureWarning: In a future version of pandas all arguments of DataFrame.drop except for the argument 'labels' will be keyword-only.\n",
      "  df.drop(df.columns.difference(['qid','query']), 1, inplace=True)\n"
     ]
    },
    {
     "data": {
      "text/html": [
       "<div>\n",
       "<style scoped>\n",
       "    .dataframe tbody tr th:only-of-type {\n",
       "        vertical-align: middle;\n",
       "    }\n",
       "\n",
       "    .dataframe tbody tr th {\n",
       "        vertical-align: top;\n",
       "    }\n",
       "\n",
       "    .dataframe thead th {\n",
       "        text-align: right;\n",
       "    }\n",
       "</style>\n",
       "<table border=\"1\" class=\"dataframe\">\n",
       "  <thead>\n",
       "    <tr style=\"text-align: right;\">\n",
       "      <th></th>\n",
       "      <th>name</th>\n",
       "      <th>nDCG@100</th>\n",
       "      <th>AP@100</th>\n",
       "      <th>R@1000</th>\n",
       "      <th>Judged@10</th>\n",
       "    </tr>\n",
       "  </thead>\n",
       "  <tbody>\n",
       "    <tr>\n",
       "      <th>0</th>\n",
       "      <td>Chinese pipeline</td>\n",
       "      <td>0.099316</td>\n",
       "      <td>0.082921</td>\n",
       "      <td>0.194643</td>\n",
       "      <td>0.1</td>\n",
       "    </tr>\n",
       "  </tbody>\n",
       "</table>\n",
       "</div>"
      ],
      "text/plain": [
       "               name  nDCG@100    AP@100    R@1000  Judged@10\n",
       "0  Chinese pipeline  0.099316  0.082921  0.194643        0.1"
      ]
     },
     "execution_count": 23,
     "metadata": {},
     "output_type": "execute_result"
    }
   ],
   "source": [
    "pt.Experiment([bm25_pipeline], dataset.get_topics('mt_title', tokenise_query=False), dataset.get_qrels(), [nDCG@100, AP@100, R@1000, Judged@10], names=['Chinese pipeline'])"
   ]
  },
  {
   "cell_type": "markdown",
   "id": "composed-danger",
   "metadata": {},
   "source": [
    "# mT5 Retrieval"
   ]
  },
  {
   "cell_type": "code",
   "execution_count": null,
   "id": "e9b22541",
   "metadata": {},
   "outputs": [],
   "source": [
    "dataset = pt.get_dataset('irds:hc4/fa/dev')"
   ]
  },
  {
   "cell_type": "code",
   "execution_count": 18,
   "id": "indonesian-paper",
   "metadata": {},
   "outputs": [],
   "source": [
    "bm25_out = pt.io.read_results('bm25_rm3_retr_hc4_fa_dev.gz')"
   ]
  },
  {
   "cell_type": "code",
   "execution_count": 19,
   "id": "olive-margin",
   "metadata": {},
   "outputs": [
    {
     "name": "stdout",
     "output_type": "stream",
     "text": [
      "There are multiple query fields available: ('title', 'description', 'ht_title', 'ht_description', 'mt_title', 'mt_description', 'narrative_by_relevance', 'report', 'report_url', 'report_date', 'translation_lang'). To use with pyterrier, provide variant or modify dataframe to add query column.\n"
     ]
    }
   ],
   "source": [
    "bm25_out_with_queries = pd.merge(bm25_out, dataset.get_topics(), on='qid')"
   ]
  },
  {
   "cell_type": "code",
   "execution_count": null,
   "id": "gross-adapter",
   "metadata": {},
   "outputs": [],
   "source": [
    "monoT5 = mT5ReRanker()"
   ]
  },
  {
   "cell_type": "code",
   "execution_count": null,
   "id": "complete-blast",
   "metadata": {},
   "outputs": [],
   "source": [
    "mt5_pipeline = pt.text.get_text(dataset, \"text\") >> monoT5"
   ]
  },
  {
   "cell_type": "markdown",
   "id": "considerable-finance",
   "metadata": {},
   "source": [
    "# mT5 Retrieval"
   ]
  },
  {
   "cell_type": "code",
   "execution_count": null,
   "id": "fluid-share",
   "metadata": {},
   "outputs": [],
   "source": [
    "mt5_out = mt5_pipeline(bm25_out_with_queries)"
   ]
  },
  {
   "cell_type": "code",
   "execution_count": null,
   "id": "honest-journalism",
   "metadata": {},
   "outputs": [],
   "source": [
    "pt.io.write_results(mt5_out, \"mt5-base-mmarco-v2_retr_hc4_fa_dev.gz\")"
   ]
  },
  {
   "cell_type": "code",
   "execution_count": null,
   "id": "changed-ranking",
   "metadata": {},
   "outputs": [],
   "source": []
  }
 ],
 "metadata": {
  "kernelspec": {
   "display_name": "Python 3 (ipykernel)",
   "language": "python",
   "name": "python3"
  },
  "language_info": {
   "codemirror_mode": {
    "name": "ipython",
    "version": 3
   },
   "file_extension": ".py",
   "mimetype": "text/x-python",
   "name": "python",
   "nbconvert_exporter": "python",
   "pygments_lexer": "ipython3",
   "version": "3.8.13"
  }
 },
 "nbformat": 4,
 "nbformat_minor": 5
}
